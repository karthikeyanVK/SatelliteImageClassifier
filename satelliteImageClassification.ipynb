{
  "cells": [
    {
      "cell_type": "code",
      "execution_count": null,
      "metadata": {
        "id": "K95jCGfd0VQ8"
      },
      "outputs": [],
      "source": [
        "import pandas as pd\n",
        "import numpy as np\n",
        "import matplotlib.pyplot as plt\n",
        "import tensorflow as tf\n",
        "from tensorflow.keras import layers\n",
        "from tensorflow.keras.models import Sequential\n",
        "from tensorflow.keras.layers import Conv2D, MaxPooling2D, Flatten, Dense"
      ]
    },
    {
      "cell_type": "code",
      "execution_count": null,
      "metadata": {
        "colab": {
          "base_uri": "https://localhost:8080/"
        },
        "id": "EbiGrq4X0rwb",
        "outputId": "e794b211-53a4-4ace-9149-dc8485f1e469"
      },
      "outputs": [],
      "source": [
        "from google.colab import drive\n",
        "drive.mount('/content/drive')\n",
        "\n",
        "path = \"/content/drive/MyDrive/SatImageClassification/data/\"\n",
        "batch_size = 32\n",
        "height = 72\n",
        "width = 128"
      ]
    },
    {
      "cell_type": "code",
      "execution_count": null,
      "metadata": {
        "colab": {
          "base_uri": "https://localhost:8080/"
        },
        "id": "QZYqFp1v3-S7",
        "outputId": "c33cd7ca-9637-4c0e-eaba-1550db2d991d"
      },
      "outputs": [],
      "source": [
        "#Loading the dataset and splitting into training and validation sets\n",
        " "
      ]
    },
    {
      "cell_type": "code",
      "execution_count": null,
      "metadata": {
        "colab": {
          "base_uri": "https://localhost:8080/",
          "height": 444
        },
        "id": "dyxV9cT84kwd",
        "outputId": "fb3694c2-6e51-4efd-96f6-9e4c2666ca91"
      },
      "outputs": [],
      "source": [
        "# Print the first images with their labels\n",
        "plt.figure(figsize=(13, 5))\n",
        "for i, (images, labels) in enumerate(train.take(1)):\n",
        "    for j in range(9):\n",
        "        ax = plt.subplot(3, 3, j + 1)\n",
        "        plt.imshow(images[j].numpy().astype(\"uint8\"))\n",
        "        plt.title(f\"Label: {labels[j].numpy()}\")\n",
        "        plt.axis(\"off\")\n",
        "plt.show()"
      ]
    },
    {
      "cell_type": "code",
      "execution_count": null,
      "metadata": {
        "colab": {
          "base_uri": "https://localhost:8080/",
          "height": 444
        },
        "id": "qSlnXHhS4ocr",
        "outputId": "b97ae8cd-f88d-44c5-82d4-47b4afc82e77"
      },
      "outputs": [],
      "source": [
        "plt.figure(figsize=(13, 5))\n",
        "for i, (images, labels) in enumerate(val.take(1)):\n",
        "    for j in range(9):\n",
        "        ax = plt.subplot(3, 3, j + 1)\n",
        "        plt.imshow(images[j].numpy().astype(\"uint8\"))\n",
        "        plt.title(f\"Label: {labels[j].numpy()}\")\n",
        "        plt.axis(\"off\")\n",
        "plt.show()"
      ]
    },
    {
      "cell_type": "code",
      "execution_count": null,
      "metadata": {
        "colab": {
          "background_save": true
        },
        "id": "ouaA6pL24tW2",
        "outputId": "158efbb2-6ff0-4428-bc4b-a637f339a3da"
      },
      "outputs": [],
      "source": [
        "# print all the areas as classes in the dataset\n",
        " "
      ]
    },
    {
      "cell_type": "code",
      "execution_count": null,
      "metadata": {
        "colab": {
          "background_save": true
        },
        "id": "xB4CZQDV4xEu"
      },
      "outputs": [],
      "source": [
        "classes = {\n",
        "    0: \"cloudy\",\n",
        "    1: \"desert\",\n",
        "    2: \"water\",\n",
        "    3: \"green_area\"\n",
        "}"
      ]
    },
    {
      "cell_type": "code",
      "execution_count": null,
      "metadata": {
        "colab": {
          "background_save": true
        },
        "id": "2DSmsNHb40Zt"
      },
      "outputs": [],
      "source": [
        "# CNN model architecture\n",
        "\n",
        "\n",
        "# The first layer has 16 filters, kernel size equal to 3\n",
        "# The max pooling layer allows to reduce the spatial dimensions\n",
        "# The 2D feature flattened to 1D vector allows to prepare for the fully connected layer\n",
        "# The fully connected layer has 128 neurons\n",
        "# The output layer has 4 neurons (because there are 4 different classes)"
      ]
    },
    {
      "cell_type": "code",
      "execution_count": null,
      "metadata": {
        "colab": {
          "background_save": true
        },
        "id": "AeSdio4Z43PW"
      },
      "outputs": [],
      "source": [
        "# Compiling the model\n",
        " "
      ]
    },
    {
      "cell_type": "code",
      "execution_count": null,
      "metadata": {
        "colab": {
          "background_save": true
        },
        "id": "iy5QWVck47J8",
        "outputId": "e25137ac-ec65-4929-97cf-ed8bab527c31"
      },
      "outputs": [],
      "source": [
        "# set epochs and fit the model\n",
        "epochs = 20\n",
        "history = model.fit(\n",
        "    train,\n",
        "    validation_data=val,\n",
        "    epochs=epochs\n",
        ")"
      ]
    },
    {
      "cell_type": "code",
      "execution_count": null,
      "metadata": {
        "id": "B4H3OP2s5E74"
      },
      "outputs": [],
      "source": [
        "# print the model summary\n",
        " "
      ]
    },
    {
      "cell_type": "code",
      "execution_count": null,
      "metadata": {
        "id": "xWsdvPGA5sHw"
      },
      "outputs": [],
      "source": [
        "# accuracy and loss\n",
        " "
      ]
    },
    {
      "cell_type": "code",
      "execution_count": null,
      "metadata": {
        "id": "ElGRPAfyt8v4"
      },
      "outputs": [],
      "source": [
        "# Loss vs Epochs\n",
        " "
      ]
    },
    {
      "cell_type": "code",
      "execution_count": null,
      "metadata": {
        "id": "BnZchb08uByf"
      },
      "outputs": [],
      "source": [
        "# Predicting one image from the validation dataset\n",
        " "
      ]
    }
  ],
  "metadata": {
    "accelerator": "GPU",
    "colab": {
      "gpuType": "T4",
      "provenance": []
    },
    "kernelspec": {
      "display_name": "Python 3",
      "name": "python3"
    },
    "language_info": {
      "name": "python"
    }
  },
  "nbformat": 4,
  "nbformat_minor": 0
}
