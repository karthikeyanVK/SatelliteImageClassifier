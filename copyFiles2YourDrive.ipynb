{
  "cells": [
    {
      "cell_type": "code",
      "execution_count": null,
      "metadata": {
        "id": "1kTKXduPq3eK"
      },
      "outputs": [],
      "source": [
        "!pip install pydrive2"
      ]
    },
    {
      "cell_type": "code",
      "execution_count": null,
      "metadata": {
        "id": "tds2eGEEQs5n"
      },
      "outputs": [],
      "source": [
        "from google.colab import drive\n",
        "drive.mount('/content/drive')"
      ]
    },
    {
      "cell_type": "code",
      "execution_count": null,
      "metadata": {
        "id": "9N1yD6j7QeVg"
      },
      "outputs": [],
      "source": [
        "# 1) Auth in Colab\n",
        "from google.colab import auth\n",
        "auth.authenticate_user()\n",
        "\n",
        "# 2) Use the Google API client\n",
        "from googleapiclient.discovery import build\n",
        "\n",
        "drive_service = build('drive', 'v3')\n"
      ]
    },
    {
      "cell_type": "code",
      "execution_count": null,
      "metadata": {
        "id": "4JXKxXSER-Ys"
      },
      "outputs": [],
      "source": [
        "# https://drive.google.com/drive/folders/162jBs8_Kull7c1wPD5oJOlqOnvFDL_Ka?usp=sharing\n",
        "SOURCE_FOLDER_ID = \"162jBs8_Kull7c1wPD5oJOlqOnvFDL_Ka\"\n",
        "folder_metadata = {\n",
        "    'name': 'SatImageClassification',  # folder name in your Drive\n",
        "    'mimeType': 'application/vnd.google-apps.folder',\n",
        "    'parents': ['root']  # or specify another folder ID\n",
        "}\n",
        "folder_check = drive_service.files().list(\n",
        "                q=(\n",
        "                    f\"'root' in parents \"\n",
        "                    f\"and trashed=false \"\n",
        "                    f\"and name='SatImageClassification' \"\n",
        "                    f\"and mimeType='application/vnd.google-apps.folder'\"\n",
        "                ),\n",
        "                fields='files(id, name)'\n",
        "            ).execute()\n",
        "existing_folders = folder_check.get('files', [])\n",
        "DEST_FOLDER_ID = ''\n",
        "if existing_folders :\n",
        "  print(\" destination folder already exists\")\n",
        "  DEST_FOLDER_ID = existing_folders[0]['id']\n",
        "else:\n",
        "        new_folder = drive_service.files().create(body=folder_metadata, fields='id').execute()\n",
        "        DEST_FOLDER_ID = new_folder['id']\n",
        "        print(\"Created destination folder:\", DEST_FOLDER_ID)\n",
        "\n",
        "\n",
        "\n"
      ]
    },
    {
      "cell_type": "code",
      "execution_count": null,
      "metadata": {
        "id": "cbochjmhUM8g"
      },
      "outputs": [],
      "source": [
        "def copy_top_level_files(drive_service, source_folder_id, dest_folder_id='root'):\n",
        "    # 1) List all items in the source folder\n",
        "    results = drive_service.files().list(\n",
        "        q=f\"'{source_folder_id}' in parents and trashed=false\",\n",
        "        fields='files(id, name, mimeType)'\n",
        "    ).execute()\n",
        "\n",
        "    items = results.get('files', [])\n",
        "    print(f\"Found {len(items)} items in source folder.\")\n",
        "\n",
        "    for item in items:\n",
        "        file_id = item['id']\n",
        "        file_name = item['name']\n",
        "        mime_type = item['mimeType']\n",
        "\n",
        "        # If it's a folder, skip or handle separately\n",
        "        if mime_type == 'application/vnd.google-apps.folder':\n",
        "            print(f\"Skipping subfolder '{file_name}' in this non-recursive example.\")\n",
        "            continue\n",
        "\n",
        "        # Copy the file to the destination folder\n",
        "        body = {\n",
        "            'name': file_name,\n",
        "            'parents': [dest_folder_id]\n",
        "        }\n",
        "\n",
        "        new_file = drive_service.files().copy(\n",
        "            fileId=file_id,\n",
        "            body=body,\n",
        "            fields='id, name'\n",
        "        ).execute()\n",
        "\n",
        "        print(f\"Copied file '{file_name}' -> ID: {new_file['id']}\")\n",
        "\n",
        "# Example usage:\n",
        "copy_top_level_files(drive_service, SOURCE_FOLDER_ID, DEST_FOLDER_ID)\n"
      ]
    },
    {
      "cell_type": "code",
      "execution_count": null,
      "metadata": {
        "id": "_QGXSRQuUQdC"
      },
      "outputs": [],
      "source": [
        "def copy_folder_recursive(drive_service, source_folder_id, dest_folder_id='root'):\n",
        "    \"\"\"\n",
        "    Recursively copy the contents of source_folder_id into dest_folder_id.\n",
        "    - If a subfolder with the same name exists in dest_folder_id, reuse it.\n",
        "    - If a file with the same name exists in dest_folder_id, skip copying.\n",
        "    \"\"\"\n",
        "    # 1) List all items in the source folder\n",
        "    response = drive_service.files().list(\n",
        "        q=f\"'{source_folder_id}' in parents and trashed=false\",\n",
        "        fields='files(id, name, mimeType)'\n",
        "    ).execute()\n",
        "    items = response.get('files', [])\n",
        "\n",
        "    for item in items:\n",
        "        src_id = item['id']\n",
        "        name = item['name']\n",
        "        mime_type = item['mimeType']\n",
        "\n",
        "        if mime_type == 'application/vnd.google-apps.folder':\n",
        "            # ----- Handle Subfolder -----\n",
        "            # Check if a folder with this name already exists in the destination\n",
        "            folder_check = drive_service.files().list(\n",
        "                q=(\n",
        "                    f\"'{dest_folder_id}' in parents \"\n",
        "                    f\"and trashed=false \"\n",
        "                    f\"and name='{name}' \"\n",
        "                    f\"and mimeType='application/vnd.google-apps.folder'\"\n",
        "                ),\n",
        "                fields='files(id, name)'\n",
        "            ).execute()\n",
        "            existing_folders = folder_check.get('files', [])\n",
        "\n",
        "            if existing_folders:\n",
        "                # Folder exists; reuse its ID\n",
        "                existing_folder_id = existing_folders[0]['id']\n",
        "                print(f\"[Folder Exists] '{name}' -> Reusing ID: {existing_folder_id}\")\n",
        "                # Recursively copy its contents\n",
        "                copy_folder_recursive(drive_service, src_id, existing_folder_id)\n",
        "            else:\n",
        "                # Create a new folder in the destination\n",
        "                folder_body = {\n",
        "                    'name': name,\n",
        "                    'mimeType': 'application/vnd.google-apps.folder',\n",
        "                    'parents': [dest_folder_id]\n",
        "                }\n",
        "                new_folder = drive_service.files().create(\n",
        "                    body=folder_body,\n",
        "                    fields='id, name'\n",
        "                ).execute()\n",
        "\n",
        "                print(f\"[Folder Created] '{name}' -> ID: {new_folder['id']}\")\n",
        "                # Recursively copy the contents\n",
        "                copy_folder_recursive(drive_service, src_id, new_folder['id'])\n",
        "\n",
        "        else:\n",
        "            # ----- Handle File -----\n",
        "            # Check if a file with this name already exists in the destination\n",
        "            file_check = drive_service.files().list(\n",
        "                q=(\n",
        "                    f\"'{dest_folder_id}' in parents \"\n",
        "                    f\"and trashed=false \"\n",
        "                    f\"and name='{name}'\"\n",
        "                ),\n",
        "                fields='files(id, name)'\n",
        "            ).execute()\n",
        "            existing_files = file_check.get('files', [])\n",
        "\n",
        "            if existing_files:\n",
        "                # A file with this name already exists, so skip\n",
        "                print(f\"[Skip File] '{name}' already exists in destination.\")\n",
        "            else:\n",
        "                # Copy the file to the destination\n",
        "                copy_body = {\n",
        "                    'name': name,\n",
        "                    'parents': [dest_folder_id]\n",
        "                }\n",
        "                new_file = drive_service.files().copy(\n",
        "                    fileId=src_id,\n",
        "                    body=copy_body,\n",
        "                    fields='id, name'\n",
        "                ).execute()\n",
        "\n",
        "                print(f\"[File Copied] '{name}' -> ID: {new_file['id']}\")\n"
      ]
    },
    {
      "cell_type": "code",
      "execution_count": null,
      "metadata": {
        "id": "IlAOnecUwHrM"
      },
      "outputs": [],
      "source": [
        "copy_folder_recursive(drive_service, SOURCE_FOLDER_ID,DEST_FOLDER_ID)"
      ]
    },
    {
      "cell_type": "code",
      "execution_count": null,
      "metadata": {},
      "outputs": [],
      "source": [
        "# https://drive.google.com/drive/folders/123jQOB9Ruwgb08voyyGpwZyw0CNP2Y0n?usp=sharing\n",
        "\n",
        "SOURCE_nvid_FOLDER_ID = \"123jQOB9Ruwgb08voyyGpwZyw0CNP2Y0n\"\n",
        "folder_metadata = {\n",
        "    'name': 'Landsat8',  # folder name in your Drive\n",
        "    'mimeType': 'application/vnd.google-apps.folder',\n",
        "    'parents': ['root']  # or specify another folder ID\n",
        "}\n",
        "folder_check = drive_service.files().list(\n",
        "                q=(\n",
        "                    f\"'root' in parents \"\n",
        "                    f\"and trashed=false \"\n",
        "                    f\"and name='Landsat8' \"\n",
        "                    f\"and mimeType='application/vnd.google-apps.folder'\"\n",
        "                ),\n",
        "                fields='files(id, name)'\n",
        "            ).execute()\n",
        "existing_folders = folder_check.get('files', [])\n",
        "DEST_nvid_FOLDER_ID = ''\n",
        "if existing_folders :\n",
        "  print(\" destination folder already exists\")\n",
        "  DEST_nvid_FOLDER_ID = existing_folders[0]['id']\n",
        "else:\n",
        "        new_folder = drive_service.files().create(body=folder_metadata, fields='id').execute()\n",
        "        DEST_nvid_FOLDER_ID = new_folder['id']\n",
        "        print(\"Created destination folder:\", DEST_nvid_FOLDER_ID)\n"
      ]
    },
    {
      "cell_type": "code",
      "execution_count": null,
      "metadata": {},
      "outputs": [],
      "source": [
        "copy_folder_recursive(drive_service, SOURCE_nvid_FOLDER_ID,DEST_nvid_FOLDER_ID)"
      ]
    }
  ],
  "metadata": {
    "colab": {
      "provenance": []
    },
    "kernelspec": {
      "display_name": "Python 3",
      "name": "python3"
    },
    "language_info": {
      "name": "python"
    }
  },
  "nbformat": 4,
  "nbformat_minor": 0
}
