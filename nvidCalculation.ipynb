{
  "cells": [
    {
      "cell_type": "code",
      "execution_count": null,
      "metadata": {
        "id": "Of5PEThzRHJN"
      },
      "outputs": [],
      "source": [
        "# Install rasterio - package to calculate vegatation index\n",
        "! pip install rasterio\n",
        "\n"
      ]
    },
    {
      "cell_type": "code",
      "execution_count": null,
      "metadata": {
        "id": "fHkBJ3Kmv5bw"
      },
      "outputs": [],
      "source": [
        "# Connect colab to google drive to fetch the tif file for nvid band fetch.\n",
        "from google.colab import drive\n",
        "drive.mount('/content/drive')\n",
        "\n",
        "path = \"/content/drive/MyDrive/Landsat8/\"\n"
      ]
    },
    {
      "cell_type": "code",
      "execution_count": null,
      "metadata": {
        "id": "znyN5nr97PQk"
      },
      "outputs": [],
      "source": [
        "import rasterio\n",
        "from rasterio import plot\n",
        "import matplotlib.pyplot as plt\n",
        "import numpy as np\n",
        "%matplotlib inline\n",
        "\n"
      ]
    },
    {
      "cell_type": "code",
      "execution_count": null,
      "metadata": {
        "id": "ENQvLXBIJN04"
      },
      "outputs": [],
      "source": [
        "#import bands as separate 1 band raster,\n",
        "# open files - LC08_L1TP_042035_20180603_20180615_01_T1_B4_clip.tif & LC08_L1TP_042035_20180603_20180615_01_T1_B5_clip.tif\n",
        "band4 = rasterio.open(path + 'LC08_L1TP_042035_20180603_20180615_01_T1_B4_clip.tif') #red\n",
        "band5 = rasterio.open(path + 'LC08_L1TP_042035_20180603_20180615_01_T1_B5_clip.tif') #nir\n"
      ]
    },
    {
      "cell_type": "code",
      "execution_count": null,
      "metadata": {
        "id": "8SQbChH57JCI"
      },
      "outputs": [],
      "source": [
        "\n",
        "#number of raster rows\n",
        "band4.height\n",
        "\n",
        "#number of raster columns\n",
        "band4.width\n"
      ]
    },
    {
      "cell_type": "code",
      "execution_count": null,
      "metadata": {
        "id": "IQf0_c_1T_hB"
      },
      "outputs": [],
      "source": [
        "\n",
        "#plot band\n",
        "plot.show(band4)\n",
        "\n"
      ]
    },
    {
      "cell_type": "code",
      "execution_count": null,
      "metadata": {
        "id": "Xfclwa-AZr4w"
      },
      "outputs": [],
      "source": [
        "#type of raster byte\n",
        "band4.dtypes[0]\n",
        "\n",
        "#raster sytem of reference\n",
        "band4.crs\n",
        "\n",
        "#raster transform parameters\n",
        "band4.transform\n",
        "\n",
        "#raster values as matrix array\n",
        "band4.read(1)\n"
      ]
    },
    {
      "cell_type": "code",
      "execution_count": null,
      "metadata": {
        "id": "7xE7wfUvUIh7"
      },
      "outputs": [],
      "source": [
        "\n",
        "#multiple band representation\n",
        "fig, (ax1, ax2) = plt.subplots(1, 2, figsize=(12, 6))\n",
        "plot.show(band4, ax=ax1, cmap='Blues') #red\n",
        "plot.show(band5, ax=ax2, cmap='Blues') #nir\n",
        "fig.tight_layout()\n",
        "\n"
      ]
    },
    {
      "cell_type": "code",
      "execution_count": null,
      "metadata": {
        "id": "H-KNqipvUK5m"
      },
      "outputs": [],
      "source": [
        "#generate nir and red objects as arrays in float64 format\n",
        "red = band4.read(1).astype('float64')\n",
        "nir = band5.read(1).astype('float64')\n",
        "\n",
        "#ndvi calculation, empty cells or nodata cells are reported as 0\n",
        "ndvi=np.where(\n",
        "    (nir+red)==0.,\n",
        "    0,\n",
        "    (nir-red)/(nir+red))\n",
        "ndvi[:5,:5]\n",
        "\n",
        "#export ndvi image\n",
        "ndviImage = rasterio.open('/content/sample_data/ndviImage.tiff','w',driver='Gtiff',\n",
        "                          width=band4.width,\n",
        "                          height = band4.height,\n",
        "                          count=1, crs=band4.crs,\n",
        "                          transform=band4.transform,\n",
        "                          dtype='float64')\n",
        "ndviImage.write(ndvi,1)\n",
        "ndviImage.close()\n",
        "\n",
        "#plot ndvi\n",
        "ndvi = rasterio.open('/content/sample_data/ndviImage.tiff')\n",
        "fig = plt.figure(figsize=(18,12))\n",
        "plot.show(ndvi)"
      ]
    }
  ],
  "metadata": {
    "colab": {
      "provenance": []
    },
    "kernelspec": {
      "display_name": "Python 3",
      "name": "python3"
    },
    "language_info": {
      "name": "python"
    }
  },
  "nbformat": 4,
  "nbformat_minor": 0
}
