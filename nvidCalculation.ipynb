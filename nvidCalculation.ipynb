{
  "cells": [
    {
      "cell_type": "code",
      "execution_count": null,
      "metadata": {
        "id": "Of5PEThzRHJN"
      },
      "outputs": [],
      "source": [
        "# Install rasterio - package to calculate vegatation index\n",
        "\n",
        "\n"
      ]
    },
    {
      "cell_type": "code",
      "execution_count": null,
      "metadata": {
        "id": "fHkBJ3Kmv5bw"
      },
      "outputs": [],
      "source": [
        "# Connect colab to google drive to fetch the tif file for nvid band fetch.\n",
        "from google.colab import drive\n",
        "drive.mount('/content/drive')\n",
        "\n",
        "path = \"/content/drive/MyDrive/Landsat8/\"\n"
      ]
    },
    {
      "cell_type": "code",
      "execution_count": null,
      "metadata": {
        "id": "znyN5nr97PQk"
      },
      "outputs": [],
      "source": [
        "import rasterio\n",
        "from rasterio import plot\n",
        "import matplotlib.pyplot as plt\n",
        "import numpy as np\n",
        "%matplotlib inline\n",
        "\n"
      ]
    },
    {
      "cell_type": "code",
      "execution_count": null,
      "metadata": {
        "id": "ENQvLXBIJN04"
      },
      "outputs": [],
      "source": [
        "#import bands as separate 1 band raster,\n",
        "# open files - LC08_L1TP_042035_20180603_20180615_01_T1_B4_clip.tif & LC08_L1TP_042035_20180603_20180615_01_T1_B5_clip.tif\n",
        "\n"
      ]
    },
    {
      "cell_type": "code",
      "execution_count": null,
      "metadata": {
        "id": "8SQbChH57JCI"
      },
      "outputs": [],
      "source": [
        "\n",
        "#number of raster rows\n",
        " \n",
        "\n",
        "#number of raster columns\n",
        " \n"
      ]
    },
    {
      "cell_type": "code",
      "execution_count": null,
      "metadata": {
        "id": "IQf0_c_1T_hB"
      },
      "outputs": [],
      "source": [
        "\n",
        "#plot band\n",
        " \n",
        "\n"
      ]
    },
    {
      "cell_type": "code",
      "execution_count": null,
      "metadata": {
        "id": "Xfclwa-AZr4w"
      },
      "outputs": [],
      "source": [
        "#type of raster byte\n",
        " \n",
        "\n",
        "#raster sytem of reference\n",
        " \n",
        "\n",
        "#raster transform parameters\n",
        " \n",
        "\n",
        "#raster values as matrix array\n",
        " \n"
      ]
    },
    {
      "cell_type": "code",
      "execution_count": null,
      "metadata": {
        "id": "7xE7wfUvUIh7"
      },
      "outputs": [],
      "source": [
        "\n",
        "#multiple band representation\n",
        " \n",
        "\n"
      ]
    },
    {
      "cell_type": "code",
      "execution_count": null,
      "metadata": {
        "id": "H-KNqipvUK5m"
      },
      "outputs": [],
      "source": [
        "#generate nir and red objects as arrays in float64 format\n",
        " \n"
      ]
    },
    {
      "cell_type": "code",
      "execution_count": null,
      "metadata": {},
      "outputs": [],
      "source": [
        "\n",
        "#ndvi calculation, empty cells or nodata cells are reported as 0\n",
        " \n",
        "\n"
      ]
    },
    {
      "cell_type": "code",
      "execution_count": null,
      "metadata": {},
      "outputs": [],
      "source": [
        "#export ndvi image\n",
        " \n",
        "\n"
      ]
    },
    {
      "cell_type": "code",
      "execution_count": null,
      "metadata": {},
      "outputs": [],
      "source": [
        "#plot ndvi\n",
        " "
      ]
    }
  ],
  "metadata": {
    "colab": {
      "provenance": []
    },
    "kernelspec": {
      "display_name": "Python 3",
      "name": "python3"
    },
    "language_info": {
      "name": "python"
    }
  },
  "nbformat": 4,
  "nbformat_minor": 0
}
